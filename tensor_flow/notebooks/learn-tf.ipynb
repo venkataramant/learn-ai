{
  "nbformat": 4,
  "nbformat_minor": 0,
  "metadata": {
    "colab": {
      "provenance": [],
      "include_colab_link": true
    },
    "kernelspec": {
      "name": "python3",
      "display_name": "Python 3"
    }
  },
  "cells": [
    {
      "cell_type": "markdown",
      "metadata": {
        "id": "view-in-github",
        "colab_type": "text"
      },
      "source": [
        "<a href=\"https://colab.research.google.com/github/venkataramant/learn-ai/blob/develop/tensor_flow/notebooks/learn-tf.ipynb\" target=\"_parent\"><img src=\"https://colab.research.google.com/assets/colab-badge.svg\" alt=\"Open In Colab\"/></a>"
      ]
    },
    {
      "cell_type": "code",
      "source": [
        "import tensorflow as tf\n",
        "tf.version"
      ],
      "metadata": {
        "id": "vU80jyimuLMU",
        "outputId": "f0ccbd63-ab76-477e-b057-6b34d33cd140",
        "colab": {
          "base_uri": "https://localhost:8080/"
        }
      },
      "execution_count": 4,
      "outputs": [
        {
          "output_type": "execute_result",
          "data": {
            "text/plain": [
              "<module 'tensorflow._api.v2.version' from '/usr/local/lib/python3.11/dist-packages/tensorflow/_api/v2/version/__init__.py'>"
            ]
          },
          "metadata": {},
          "execution_count": 4
        }
      ]
    },
    {
      "cell_type": "code",
      "source": [
        "# prompt: generae a python code to convert a black picture to a tensorflow int n-d array\n",
        "\n",
        "import tensorflow as tf\n",
        "import numpy as np\n",
        "from PIL import Image\n",
        "\n",
        "def image_to_tensor(image_path):\n",
        "  \"\"\"Converts a black image to a TensorFlow int n-D array.\n",
        "\n",
        "  Args:\n",
        "    image_path: The path to the black image file.\n",
        "\n",
        "  Returns:\n",
        "    A TensorFlow int n-D array representing the image, or None if the image\n",
        "    cannot be opened.\n",
        "  \"\"\"\n",
        "  try:\n",
        "    img = Image.open(image_path).convert(\"L\") #Open in grayscale mode. Black images are grayscale in essence.\n",
        "    img_array = np.array(img)\n",
        "    tensor = tf.convert_to_tensor(img_array, dtype=tf.int32)\n",
        "    return tensor\n",
        "  except FileNotFoundError:\n",
        "    print(f\"Error: Image file not found at {image_path}\")\n",
        "    return None\n",
        "  except Exception as e:\n",
        "    print(f\"An error occurred: {e}\")\n",
        "    return None\n",
        "\n",
        "\n",
        "# Example usage\n",
        "image_path = \"/path/to/your/black_image.jpg\"  #Replace with actual path.\n",
        "image_tensor = image_to_tensor(image_path)\n",
        "\n",
        "if image_tensor is not None:\n",
        "  print(image_tensor)\n",
        "  print(\"Shape of the tensor:\", image_tensor.shape)\n",
        "  print(\"Data type of the tensor:\", image_tensor.dtype)"
      ],
      "metadata": {
        "id": "NO21r4gAvTwc"
      },
      "execution_count": null,
      "outputs": []
    }
  ]
}